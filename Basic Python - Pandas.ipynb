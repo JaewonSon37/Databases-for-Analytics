{
 "cells": [
  {
   "cell_type": "code",
   "execution_count": 1,
   "metadata": {},
   "outputs": [],
   "source": [
    "import pandas as pd\n",
    "import numpy as np"
   ]
  },
  {
   "cell_type": "code",
   "execution_count": 2,
   "metadata": {},
   "outputs": [
    {
     "data": {
      "text/html": [
       "<div>\n",
       "<style scoped>\n",
       "    .dataframe tbody tr th:only-of-type {\n",
       "        vertical-align: middle;\n",
       "    }\n",
       "\n",
       "    .dataframe tbody tr th {\n",
       "        vertical-align: top;\n",
       "    }\n",
       "\n",
       "    .dataframe thead th {\n",
       "        text-align: right;\n",
       "    }\n",
       "</style>\n",
       "<table border=\"1\" class=\"dataframe\">\n",
       "  <thead>\n",
       "    <tr style=\"text-align: right;\">\n",
       "      <th></th>\n",
       "      <th>City</th>\n",
       "      <th>State</th>\n",
       "      <th>Data1</th>\n",
       "      <th>Data2</th>\n",
       "    </tr>\n",
       "  </thead>\n",
       "  <tbody>\n",
       "    <tr>\n",
       "      <th>0</th>\n",
       "      <td>Chicago</td>\n",
       "      <td>IL</td>\n",
       "      <td>0.764614</td>\n",
       "      <td>-0.449181</td>\n",
       "    </tr>\n",
       "    <tr>\n",
       "      <th>1</th>\n",
       "      <td>Chicago</td>\n",
       "      <td>IL</td>\n",
       "      <td>-1.708394</td>\n",
       "      <td>-0.593543</td>\n",
       "    </tr>\n",
       "    <tr>\n",
       "      <th>2</th>\n",
       "      <td>Boston</td>\n",
       "      <td>MA</td>\n",
       "      <td>0.247451</td>\n",
       "      <td>-0.373240</td>\n",
       "    </tr>\n",
       "    <tr>\n",
       "      <th>3</th>\n",
       "      <td>Portland</td>\n",
       "      <td>ME</td>\n",
       "      <td>-0.149316</td>\n",
       "      <td>0.339205</td>\n",
       "    </tr>\n",
       "    <tr>\n",
       "      <th>4</th>\n",
       "      <td>Portland</td>\n",
       "      <td>OR</td>\n",
       "      <td>-0.555327</td>\n",
       "      <td>-1.100220</td>\n",
       "    </tr>\n",
       "    <tr>\n",
       "      <th>5</th>\n",
       "      <td>Portland</td>\n",
       "      <td>ME</td>\n",
       "      <td>1.622931</td>\n",
       "      <td>-0.492489</td>\n",
       "    </tr>\n",
       "  </tbody>\n",
       "</table>\n",
       "</div>"
      ],
      "text/plain": [
       "       City State     Data1     Data2\n",
       "0   Chicago    IL  0.764614 -0.449181\n",
       "1   Chicago    IL -1.708394 -0.593543\n",
       "2    Boston    MA  0.247451 -0.373240\n",
       "3  Portland    ME -0.149316  0.339205\n",
       "4  Portland    OR -0.555327 -1.100220\n",
       "5  Portland    ME  1.622931 -0.492489"
      ]
     },
     "execution_count": 2,
     "metadata": {},
     "output_type": "execute_result"
    }
   ],
   "source": [
    "df = pd.DataFrame({'City': ['Chicago', 'Chicago', 'Boston', 'Portland', 'Portland', 'Portland'],\n",
    "                   'State': ['IL', 'IL', 'MA', 'ME', 'OR', 'ME'],\n",
    "                   'Data1': np.random.randn(6),\n",
    "                   'Data2': np.random.randn(6)})\n",
    "df"
   ]
  },
  {
   "cell_type": "code",
   "execution_count": 5,
   "metadata": {},
   "outputs": [
    {
     "name": "stdout",
     "output_type": "stream",
     "text": [
      "City\n",
      "Boston      0.247451\n",
      "Chicago     0.764614\n",
      "Portland    1.622931\n",
      "Name: Data1, dtype: float64\n",
      "\n",
      "City\n",
      "Boston      0.247451\n",
      "Chicago    -0.471890\n",
      "Portland    0.306096\n",
      "Name: Data1, dtype: float64\n"
     ]
    }
   ],
   "source": [
    "data1agg = df['Data1'].groupby(df['City'])\n",
    "max_data1agg = data1agg.max()\n",
    "mean_data1agg = data1agg.mean()\n",
    "\n",
    "print(max_data1agg)\n",
    "print()\n",
    "print(mean_data1agg)"
   ]
  },
  {
   "cell_type": "code",
   "execution_count": 7,
   "metadata": {},
   "outputs": [
    {
     "name": "stdout",
     "output_type": "stream",
     "text": [
      "Group Name: Boston\n",
      "Group Value: 2    0.247451\n",
      "Name: Data1, dtype: float64\n",
      "------------------------------\n",
      "Group Name: Chicago\n",
      "Group Value: 0    0.764614\n",
      "1   -1.708394\n",
      "Name: Data1, dtype: float64\n",
      "------------------------------\n",
      "Group Name: Portland\n",
      "Group Value: 3   -0.149316\n",
      "4   -0.555327\n",
      "5    1.622931\n",
      "Name: Data1, dtype: float64\n",
      "------------------------------\n"
     ]
    }
   ],
   "source": [
    "for gname, gvalue in data1agg:\n",
    "    print('Group Name:', gname)\n",
    "    print('Group Value:', gvalue)\n",
    "    print('-' * 30)"
   ]
  },
  {
   "cell_type": "code",
   "execution_count": 12,
   "metadata": {},
   "outputs": [
    {
     "name": "stdout",
     "output_type": "stream",
     "text": [
      "                   Data1     Data2\n",
      "State City                        \n",
      "IL    Chicago  -1.708394 -0.593543\n",
      "MA    Boston    0.247451 -0.373240\n",
      "ME    Portland -0.149316 -0.492489\n",
      "OR    Portland -0.555327 -1.100220\n"
     ]
    }
   ],
   "source": [
    "gby1 = df.groupby(['State', 'City']).min()\n",
    "print(gby1)"
   ]
  },
  {
   "cell_type": "code",
   "execution_count": 13,
   "metadata": {},
   "outputs": [
    {
     "name": "stdout",
     "output_type": "stream",
     "text": [
      "Group Name: ('IL', 'Chicago')\n",
      "Group Value: 0   -0.449181\n",
      "1   -0.593543\n",
      "Name: Data2, dtype: float64\n",
      "------------------------------\n",
      "Group Name: ('MA', 'Boston')\n",
      "Group Value: 2   -0.37324\n",
      "Name: Data2, dtype: float64\n",
      "------------------------------\n",
      "Group Name: ('ME', 'Portland')\n",
      "Group Value: 3    0.339205\n",
      "5   -0.492489\n",
      "Name: Data2, dtype: float64\n",
      "------------------------------\n",
      "Group Name: ('OR', 'Portland')\n",
      "Group Value: 4   -1.10022\n",
      "Name: Data2, dtype: float64\n",
      "------------------------------\n"
     ]
    }
   ],
   "source": [
    "for gname, gvalue in df['Data2'].groupby([df['State'], df['City']]):\n",
    "    print('Group Name:', gname)\n",
    "    print('Group Value:', gvalue)\n",
    "    print('-' * 30)"
   ]
  },
  {
   "cell_type": "code",
   "execution_count": 14,
   "metadata": {},
   "outputs": [
    {
     "data": {
      "text/plain": [
       "State  City    \n",
       "IL     Chicago     2\n",
       "MA     Boston      1\n",
       "ME     Portland    2\n",
       "OR     Portland    1\n",
       "Name: Data2, dtype: int64"
      ]
     },
     "execution_count": 14,
     "metadata": {},
     "output_type": "execute_result"
    }
   ],
   "source": [
    "df['Data2'].groupby([df['State'], df['City']]).count()"
   ]
  },
  {
   "cell_type": "code",
   "execution_count": 15,
   "metadata": {},
   "outputs": [],
   "source": [
    "spellout = {'IL': 'Illinois',\n",
    "            'MA': 'Massachussetts',\n",
    "            'OR': 'Oregon',\n",
    "            'ME': 'Maine'}"
   ]
  },
  {
   "cell_type": "code",
   "execution_count": 16,
   "metadata": {},
   "outputs": [
    {
     "data": {
      "text/plain": [
       "0    -IL-\n",
       "1    -IL-\n",
       "2    -MA-\n",
       "3    -ME-\n",
       "4    -OR-\n",
       "5    -ME-\n",
       "Name: State, dtype: object"
      ]
     },
     "execution_count": 16,
     "metadata": {},
     "output_type": "execute_result"
    }
   ],
   "source": [
    "df['State'].map(lambda x: '-'+ x +'-')"
   ]
  },
  {
   "cell_type": "code",
   "execution_count": 17,
   "metadata": {},
   "outputs": [
    {
     "data": {
      "text/plain": [
       "0          Illinois\n",
       "1          Illinois\n",
       "2    Massachussetts\n",
       "3             Maine\n",
       "4            Oregon\n",
       "5             Maine\n",
       "Name: State, dtype: object"
      ]
     },
     "execution_count": 17,
     "metadata": {},
     "output_type": "execute_result"
    }
   ],
   "source": [
    "df['State'].map(lambda x: spellout[x])"
   ]
  },
  {
   "cell_type": "code",
   "execution_count": 18,
   "metadata": {},
   "outputs": [
    {
     "data": {
      "text/html": [
       "<div>\n",
       "<style scoped>\n",
       "    .dataframe tbody tr th:only-of-type {\n",
       "        vertical-align: middle;\n",
       "    }\n",
       "\n",
       "    .dataframe tbody tr th {\n",
       "        vertical-align: top;\n",
       "    }\n",
       "\n",
       "    .dataframe thead th {\n",
       "        text-align: right;\n",
       "    }\n",
       "</style>\n",
       "<table border=\"1\" class=\"dataframe\">\n",
       "  <thead>\n",
       "    <tr style=\"text-align: right;\">\n",
       "      <th></th>\n",
       "      <th>City</th>\n",
       "      <th>State</th>\n",
       "      <th>Data1</th>\n",
       "      <th>Data2</th>\n",
       "    </tr>\n",
       "  </thead>\n",
       "  <tbody>\n",
       "    <tr>\n",
       "      <th>0</th>\n",
       "      <td>Chicago</td>\n",
       "      <td>Illinois</td>\n",
       "      <td>0.764614</td>\n",
       "      <td>-0.449181</td>\n",
       "    </tr>\n",
       "    <tr>\n",
       "      <th>1</th>\n",
       "      <td>Chicago</td>\n",
       "      <td>Illinois</td>\n",
       "      <td>-1.708394</td>\n",
       "      <td>-0.593543</td>\n",
       "    </tr>\n",
       "    <tr>\n",
       "      <th>2</th>\n",
       "      <td>Boston</td>\n",
       "      <td>Massachussetts</td>\n",
       "      <td>0.247451</td>\n",
       "      <td>-0.373240</td>\n",
       "    </tr>\n",
       "    <tr>\n",
       "      <th>3</th>\n",
       "      <td>Portland</td>\n",
       "      <td>Maine</td>\n",
       "      <td>-0.149316</td>\n",
       "      <td>0.339205</td>\n",
       "    </tr>\n",
       "    <tr>\n",
       "      <th>4</th>\n",
       "      <td>Portland</td>\n",
       "      <td>Oregon</td>\n",
       "      <td>-0.555327</td>\n",
       "      <td>-1.100220</td>\n",
       "    </tr>\n",
       "    <tr>\n",
       "      <th>5</th>\n",
       "      <td>Portland</td>\n",
       "      <td>Maine</td>\n",
       "      <td>1.622931</td>\n",
       "      <td>-0.492489</td>\n",
       "    </tr>\n",
       "  </tbody>\n",
       "</table>\n",
       "</div>"
      ],
      "text/plain": [
       "       City           State     Data1     Data2\n",
       "0   Chicago        Illinois  0.764614 -0.449181\n",
       "1   Chicago        Illinois -1.708394 -0.593543\n",
       "2    Boston  Massachussetts  0.247451 -0.373240\n",
       "3  Portland           Maine -0.149316  0.339205\n",
       "4  Portland          Oregon -0.555327 -1.100220\n",
       "5  Portland           Maine  1.622931 -0.492489"
      ]
     },
     "execution_count": 18,
     "metadata": {},
     "output_type": "execute_result"
    }
   ],
   "source": [
    "df['State'] = df['State'].map(lambda x: spellout[x])\n",
    "df"
   ]
  },
  {
   "cell_type": "code",
   "execution_count": null,
   "metadata": {},
   "outputs": [],
   "source": []
  }
 ],
 "metadata": {
  "kernelspec": {
   "display_name": "Python 3",
   "language": "python",
   "name": "python3"
  },
  "language_info": {
   "codemirror_mode": {
    "name": "ipython",
    "version": 3
   },
   "file_extension": ".py",
   "mimetype": "text/x-python",
   "name": "python",
   "nbconvert_exporter": "python",
   "pygments_lexer": "ipython3",
   "version": "3.9.11"
  }
 },
 "nbformat": 4,
 "nbformat_minor": 2
}
