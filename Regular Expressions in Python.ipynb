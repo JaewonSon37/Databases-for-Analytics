{
 "cells": [
  {
   "cell_type": "code",
   "execution_count": 1,
   "metadata": {},
   "outputs": [],
   "source": [
    "import re"
   ]
  },
  {
   "cell_type": "code",
   "execution_count": 2,
   "metadata": {},
   "outputs": [],
   "source": [
    "email1 = '''Steve's password is 12345, Ana's password is DePaul9\n",
    "            and I think Chris' password is Chris.'''"
   ]
  },
  {
   "cell_type": "code",
   "execution_count": 3,
   "metadata": {},
   "outputs": [
    {
     "data": {
      "text/plain": [
       "[\"Steve's password is 12345\",\n",
       " \"Ana's password is DePaul9\",\n",
       " \"Chris' password is Chris\"]"
      ]
     },
     "execution_count": 3,
     "metadata": {},
     "output_type": "execute_result"
    }
   ],
   "source": [
    "regex1 = re.compile(\"[A-Z][a-z]+'s? password is \\w+\")\n",
    "regex1.findall(email1)"
   ]
  },
  {
   "cell_type": "code",
   "execution_count": 4,
   "metadata": {},
   "outputs": [
    {
     "data": {
      "text/plain": [
       "['12345', 'DePaul9', 'Chris']"
      ]
     },
     "execution_count": 4,
     "metadata": {},
     "output_type": "execute_result"
    }
   ],
   "source": [
    "regex2 = re.compile(\"[A-Z][a-z]+'s? password is (\\w+)\")\n",
    "regex2.findall(email1)"
   ]
  },
  {
   "cell_type": "code",
   "execution_count": 5,
   "metadata": {},
   "outputs": [],
   "source": [
    "email2 = '''Steve's password is 12345, Ana's password \n",
    "            is DePaul9\n",
    "            and I think Chris' password is Chris.'''"
   ]
  },
  {
   "cell_type": "code",
   "execution_count": 6,
   "metadata": {},
   "outputs": [
    {
     "data": {
      "text/plain": [
       "[\"Steve's password is 12345\",\n",
       " \"Ana's password \\n            is DePaul9\",\n",
       " \"Chris' password is Chris\"]"
      ]
     },
     "execution_count": 6,
     "metadata": {},
     "output_type": "execute_result"
    }
   ],
   "source": [
    "regex3 = re.compile(\"[A-Z][a-z]+'s? password\\s+is \\w+\")\n",
    "regex3.findall(email2)"
   ]
  },
  {
   "cell_type": "code",
   "execution_count": 7,
   "metadata": {},
   "outputs": [
    {
     "data": {
      "text/plain": [
       "['12345', 'DePaul9', 'Chris']"
      ]
     },
     "execution_count": 7,
     "metadata": {},
     "output_type": "execute_result"
    }
   ],
   "source": [
    "regex4 = re.compile(\"[A-Z][a-z]+'s? password\\s+is (\\w+)\")\n",
    "regex4.findall(email2)"
   ]
  },
  {
   "cell_type": "code",
   "execution_count": 8,
   "metadata": {},
   "outputs": [
    {
     "data": {
      "text/plain": [
       "\"Steve's password is REDACTED!, Ana's password \\n            is REDACTED!\\n            and I think REDACTED!' password is REDACTED!.\""
      ]
     },
     "execution_count": 8,
     "metadata": {},
     "output_type": "execute_result"
    }
   ],
   "source": [
    "regex4 = re.compile(\"[A-Z][a-z]+'s? password\\s+is (\\w+)\")\n",
    "\n",
    "for password in regex4.findall(email2):\n",
    "    email2 = email2.replace(password, 'REDACTED!')\n",
    "\n",
    "email2"
   ]
  },
  {
   "cell_type": "code",
   "execution_count": 9,
   "metadata": {},
   "outputs": [],
   "source": [
    "import urllib\n",
    "import json"
   ]
  },
  {
   "cell_type": "code",
   "execution_count": 10,
   "metadata": {},
   "outputs": [
    {
     "data": {
      "text/plain": [
       "{'created_at': 'Tue Oct 01 00:00:03 +0000 2013',\n",
       " 'id': 384830030238728200,\n",
       " 'id_str': '384830030238728192',\n",
       " 'text': 'Burn',\n",
       " 'source': '<a href=\"http://twitter.com/download/iphone\" rel=\"nofollow\">Twitter for iPhone</a>',\n",
       " 'truncated': False,\n",
       " 'in_reply_to_status_id': None,\n",
       " 'in_reply_to_status_id_str': None,\n",
       " 'in_reply_to_user_id': None,\n",
       " 'in_reply_to_user_id_str': None,\n",
       " 'in_reply_to_screen_name': None,\n",
       " 'user': {'id': 1656399505,\n",
       "  'id_str': '1656399505',\n",
       "  'name': 'Ivan Avila',\n",
       "  'screen_name': 'IvanAceAvila',\n",
       "  'location': 'United States',\n",
       "  'url': None,\n",
       "  'description': 'Fantasy Football champ',\n",
       "  'protected': False,\n",
       "  'followers_count': 39,\n",
       "  'friends_count': 57,\n",
       "  'listed_count': 0,\n",
       "  'created_at': 'Thu Aug 08 22:59:58 +0000 2013',\n",
       "  'favourites_count': 38,\n",
       "  'utc_offset': None,\n",
       "  'time_zone': None,\n",
       "  'geo_enabled': False,\n",
       "  'verified': False,\n",
       "  'statuses_count': 480,\n",
       "  'lang': 'en',\n",
       "  'contributors_enabled': False,\n",
       "  'is_translator': False,\n",
       "  'profile_background_color': 'C0DEED',\n",
       "  'profile_background_image_url': 'http://abs.twimg.com/images/themes/theme1/bg.png',\n",
       "  'profile_background_image_url_https': 'https://abs.twimg.com/images/themes/theme1/bg.png',\n",
       "  'profile_background_tile': False,\n",
       "  'profile_image_url': 'http://a0.twimg.com/profile_images/378800000416016861/0c36c11fdd0095ad7426b9eef77cc9f2_normal.png',\n",
       "  'profile_image_url_https': 'https://si0.twimg.com/profile_images/378800000416016861/0c36c11fdd0095ad7426b9eef77cc9f2_normal.png',\n",
       "  'profile_banner_url': 'https://pbs.twimg.com/profile_banners/1656399505/1376017032',\n",
       "  'profile_link_color': '0084B4',\n",
       "  'profile_sidebar_border_color': 'C0DEED',\n",
       "  'profile_sidebar_fill_color': 'DDEEF6',\n",
       "  'profile_text_color': '333333',\n",
       "  'profile_use_background_image': True,\n",
       "  'default_profile': True,\n",
       "  'default_profile_image': False,\n",
       "  'following': None,\n",
       "  'follow_request_sent': None,\n",
       "  'notifications': None},\n",
       " 'geo': None,\n",
       " 'coordinates': None,\n",
       " 'place': None,\n",
       " 'contributors': None,\n",
       " 'retweet_count': 0,\n",
       " 'favorite_count': 0,\n",
       " 'entities': {'hashtags': [], 'symbols': [], 'urls': [], 'user_mentions': []},\n",
       " 'favorited': False,\n",
       " 'retweeted': False,\n",
       " 'filter_level': 'medium',\n",
       " 'lang': 'und'}"
      ]
     },
     "execution_count": 10,
     "metadata": {},
     "output_type": "execute_result"
    }
   ],
   "source": [
    "web_file_descriptor = urllib.request.urlopen(\"http://cdmgcsarprd01.dpu.depaul.edu/DSC450/tweet_data.txt\")\n",
    "tweet_line = web_file_descriptor.readline()\n",
    "tweet_line = web_file_descriptor.readline()\n",
    "tweet = json.loads(tweet_line[6:])\n",
    "tweet"
   ]
  },
  {
   "cell_type": "code",
   "execution_count": 11,
   "metadata": {},
   "outputs": [
    {
     "data": {
      "text/plain": [
       "384830030238728200"
      ]
     },
     "execution_count": 11,
     "metadata": {},
     "output_type": "execute_result"
    }
   ],
   "source": [
    "tweet['id']"
   ]
  },
  {
   "cell_type": "code",
   "execution_count": 12,
   "metadata": {},
   "outputs": [
    {
     "data": {
      "text/plain": [
       "{'id': 1656399505,\n",
       " 'id_str': '1656399505',\n",
       " 'name': 'Ivan Avila',\n",
       " 'screen_name': 'IvanAceAvila',\n",
       " 'location': 'United States',\n",
       " 'url': None,\n",
       " 'description': 'Fantasy Football champ',\n",
       " 'protected': False,\n",
       " 'followers_count': 39,\n",
       " 'friends_count': 57,\n",
       " 'listed_count': 0,\n",
       " 'created_at': 'Thu Aug 08 22:59:58 +0000 2013',\n",
       " 'favourites_count': 38,\n",
       " 'utc_offset': None,\n",
       " 'time_zone': None,\n",
       " 'geo_enabled': False,\n",
       " 'verified': False,\n",
       " 'statuses_count': 480,\n",
       " 'lang': 'en',\n",
       " 'contributors_enabled': False,\n",
       " 'is_translator': False,\n",
       " 'profile_background_color': 'C0DEED',\n",
       " 'profile_background_image_url': 'http://abs.twimg.com/images/themes/theme1/bg.png',\n",
       " 'profile_background_image_url_https': 'https://abs.twimg.com/images/themes/theme1/bg.png',\n",
       " 'profile_background_tile': False,\n",
       " 'profile_image_url': 'http://a0.twimg.com/profile_images/378800000416016861/0c36c11fdd0095ad7426b9eef77cc9f2_normal.png',\n",
       " 'profile_image_url_https': 'https://si0.twimg.com/profile_images/378800000416016861/0c36c11fdd0095ad7426b9eef77cc9f2_normal.png',\n",
       " 'profile_banner_url': 'https://pbs.twimg.com/profile_banners/1656399505/1376017032',\n",
       " 'profile_link_color': '0084B4',\n",
       " 'profile_sidebar_border_color': 'C0DEED',\n",
       " 'profile_sidebar_fill_color': 'DDEEF6',\n",
       " 'profile_text_color': '333333',\n",
       " 'profile_use_background_image': True,\n",
       " 'default_profile': True,\n",
       " 'default_profile_image': False,\n",
       " 'following': None,\n",
       " 'follow_request_sent': None,\n",
       " 'notifications': None}"
      ]
     },
     "execution_count": 12,
     "metadata": {},
     "output_type": "execute_result"
    }
   ],
   "source": [
    "tweet['user']"
   ]
  },
  {
   "cell_type": "code",
   "execution_count": 13,
   "metadata": {},
   "outputs": [
    {
     "data": {
      "text/plain": [
       "1656399505"
      ]
     },
     "execution_count": 13,
     "metadata": {},
     "output_type": "execute_result"
    }
   ],
   "source": [
    "tweet['user']['id']"
   ]
  },
  {
   "cell_type": "code",
   "execution_count": 14,
   "metadata": {},
   "outputs": [
    {
     "data": {
      "text/plain": [
       "'Tue Oct 01 00:00:03 +0000 2013'"
      ]
     },
     "execution_count": 14,
     "metadata": {},
     "output_type": "execute_result"
    }
   ],
   "source": [
    "tweet['created_at']"
   ]
  },
  {
   "cell_type": "code",
   "execution_count": 15,
   "metadata": {},
   "outputs": [],
   "source": [
    "tweet_string = tweet_line.decode()"
   ]
  },
  {
   "cell_type": "code",
   "execution_count": 16,
   "metadata": {},
   "outputs": [
    {
     "data": {
      "text/plain": [
       "['created_at', 'created_at']"
      ]
     },
     "execution_count": 16,
     "metadata": {},
     "output_type": "execute_result"
    }
   ],
   "source": [
    "regex1 = re.compile('created_at')\n",
    "regex1.findall(tweet_string)"
   ]
  },
  {
   "cell_type": "code",
   "execution_count": 17,
   "metadata": {},
   "outputs": [
    {
     "data": {
      "text/plain": [
       "'Tue Oct 01 00:00:03 +0000 2013'"
      ]
     },
     "execution_count": 17,
     "metadata": {},
     "output_type": "execute_result"
    }
   ],
   "source": [
    "tweet['created_at']"
   ]
  },
  {
   "cell_type": "code",
   "execution_count": 18,
   "metadata": {},
   "outputs": [
    {
     "data": {
      "text/plain": [
       "'Thu Aug 08 22:59:58 +0000 2013'"
      ]
     },
     "execution_count": 18,
     "metadata": {},
     "output_type": "execute_result"
    }
   ],
   "source": [
    "tweet['user']['created_at']"
   ]
  },
  {
   "cell_type": "code",
   "execution_count": 19,
   "metadata": {},
   "outputs": [
    {
     "data": {
      "text/plain": [
       "['created_at\":\"Tue Oct 01 00:00:03 +0000 2013\"',\n",
       " 'created_at\":\"Thu Aug 08 22:59:58 +0000 2013\"']"
      ]
     },
     "execution_count": 19,
     "metadata": {},
     "output_type": "execute_result"
    }
   ],
   "source": [
    "regex2 = re.compile('created_at\":\"[^\"]*\"')\n",
    "regex2.findall(tweet_string)"
   ]
  },
  {
   "cell_type": "code",
   "execution_count": 20,
   "metadata": {},
   "outputs": [
    {
     "data": {
      "text/plain": [
       "['Tue Oct 01 00:00:03 +0000 2013', 'Thu Aug 08 22:59:58 +0000 2013']"
      ]
     },
     "execution_count": 20,
     "metadata": {},
     "output_type": "execute_result"
    }
   ],
   "source": [
    "regex3 = re.compile('created_at\":\"([^\"]*)\"')\n",
    "regex3.findall(tweet_string)"
   ]
  },
  {
   "cell_type": "code",
   "execution_count": 21,
   "metadata": {},
   "outputs": [
    {
     "data": {
      "text/plain": [
       "['\"created_at\":\"Tue Oct 01 00:00:03 +0000 2013\"',\n",
       " '\"id_str\":\"384830030238728192\"',\n",
       " '\"text\":\"Burn\"',\n",
       " '\"source\":\"<a href=\\\\\"',\n",
       " '\"id_str\":\"1656399505\"',\n",
       " '\"name\":\"Ivan Avila\"',\n",
       " '\"screen_name\":\"IvanAceAvila\"',\n",
       " '\"location\":\"United States\"',\n",
       " '\"description\":\"Fantasy Football champ\"',\n",
       " '\"created_at\":\"Thu Aug 08 22:59:58 +0000 2013\"',\n",
       " '\"lang\":\"en\"',\n",
       " '\"profile_background_color\":\"C0DEED\"',\n",
       " '\"profile_background_image_url\":\"http://abs.twimg.com/images/themes/theme1/bg.png\"',\n",
       " '\"profile_background_image_url_https\":\"https://abs.twimg.com/images/themes/theme1/bg.png\"',\n",
       " '\"profile_image_url\":\"http://a0.twimg.com/profile_images/378800000416016861/0c36c11fdd0095ad7426b9eef77cc9f2_normal.png\"',\n",
       " '\"profile_image_url_https\":\"https://si0.twimg.com/profile_images/378800000416016861/0c36c11fdd0095ad7426b9eef77cc9f2_normal.png\"',\n",
       " '\"profile_banner_url\":\"https://pbs.twimg.com/profile_banners/1656399505/1376017032\"',\n",
       " '\"profile_link_color\":\"0084B4\"',\n",
       " '\"profile_sidebar_border_color\":\"C0DEED\"',\n",
       " '\"profile_sidebar_fill_color\":\"DDEEF6\"',\n",
       " '\"profile_text_color\":\"333333\"',\n",
       " '\"filter_level\":\"medium\"',\n",
       " '\"lang\":\"und\"']"
      ]
     },
     "execution_count": 21,
     "metadata": {},
     "output_type": "execute_result"
    }
   ],
   "source": [
    "regex4 = re.compile('\"\\w+\":\"[^\"]*\"')\n",
    "regex4.findall(tweet_string)"
   ]
  },
  {
   "cell_type": "code",
   "execution_count": 22,
   "metadata": {},
   "outputs": [
    {
     "data": {
      "text/plain": [
       "['\"in_reply_to_status_id\":null',\n",
       " '\"in_reply_to_status_id_str\":null',\n",
       " '\"in_reply_to_user_id\":null',\n",
       " '\"in_reply_to_user_id_str\":null',\n",
       " '\"in_reply_to_screen_name\":null',\n",
       " '\"url\":null',\n",
       " '\"utc_offset\":null',\n",
       " '\"time_zone\":null',\n",
       " '\"following\":null',\n",
       " '\"follow_request_sent\":null',\n",
       " '\"notifications\":null',\n",
       " '\"geo\":null',\n",
       " '\"coordinates\":null',\n",
       " '\"place\":null',\n",
       " '\"contributors\":null']"
      ]
     },
     "execution_count": 22,
     "metadata": {},
     "output_type": "execute_result"
    }
   ],
   "source": [
    "regex5 = re.compile('\"\\w+\":null')\n",
    "regex5.findall(tweet_string)"
   ]
  },
  {
   "cell_type": "code",
   "execution_count": null,
   "metadata": {},
   "outputs": [],
   "source": []
  }
 ],
 "metadata": {
  "kernelspec": {
   "display_name": "Python 3",
   "language": "python",
   "name": "python3"
  },
  "language_info": {
   "codemirror_mode": {
    "name": "ipython",
    "version": 3
   },
   "file_extension": ".py",
   "mimetype": "text/x-python",
   "name": "python",
   "nbconvert_exporter": "python",
   "pygments_lexer": "ipython3",
   "version": "3.9.11"
  }
 },
 "nbformat": 4,
 "nbformat_minor": 2
}
