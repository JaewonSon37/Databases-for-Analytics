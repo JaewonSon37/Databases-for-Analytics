{
 "cells": [
  {
   "cell_type": "code",
   "execution_count": 1,
   "metadata": {},
   "outputs": [],
   "source": [
    "import urllib\n",
    "import json\n",
    "import time"
   ]
  },
  {
   "cell_type": "code",
   "execution_count": 2,
   "metadata": {},
   "outputs": [],
   "source": [
    "tweetData = 'http://cdmgcsarprd01.dpu.depaul.edu/DSC450/tweet_data.txt'\n",
    "webFD = urllib.request.urlopen(tweetData)\n",
    "ln = webFD.readline()\n",
    "ln = webFD.readline()\n",
    "tweet = json.loads(ln[6:])"
   ]
  },
  {
   "cell_type": "code",
   "execution_count": 4,
   "metadata": {},
   "outputs": [
    {
     "name": "stdout",
     "output_type": "stream",
     "text": [
      "Elapsed time: 0.014842748641967773seconds\n",
      "Performance:  6737296.602682515 operations per seconds\n"
     ]
    }
   ],
   "source": [
    "start = time.time()\n",
    "\n",
    "for i in range(100000):\n",
    "    a = 5\n",
    "\n",
    "end = time.time()\n",
    "\n",
    "print(\"Elapsed time: \" + str(end - start) + 'seconds')\n",
    "print(\"Performance: \", 100000 / (end - start), 'operations per seconds')"
   ]
  },
  {
   "cell_type": "code",
   "execution_count": 5,
   "metadata": {},
   "outputs": [
    {
     "name": "stdout",
     "output_type": "stream",
     "text": [
      "Elapsed time: 5.790710926055908seconds\n",
      "Performance:  17269.03678614651 operations per seconds\n"
     ]
    }
   ],
   "source": [
    "start = time.time()\n",
    "\n",
    "for i in range(100000):\n",
    "    dummy = json.loads(ln[6:])\n",
    "\n",
    "end = time.time()\n",
    "\n",
    "print(\"Elapsed time: \" + str(end - start) + 'seconds')\n",
    "print(\"Performance: \", 100000 / (end - start), 'operations per seconds')"
   ]
  },
  {
   "cell_type": "code",
   "execution_count": 6,
   "metadata": {},
   "outputs": [
    {
     "name": "stdout",
     "output_type": "stream",
     "text": [
      "Elapsed time: 7.482313632965088seconds\n",
      "Performance:  13364.850085864691 operations per seconds\n"
     ]
    }
   ],
   "source": [
    "start = time.time()\n",
    "\n",
    "time.sleep(3)\n",
    "\n",
    "for i in range(100000):\n",
    "    dummy = json.loads(ln[6:])\n",
    "\n",
    "end = time.time()\n",
    "\n",
    "print(\"Elapsed time: \" + str(end - start) + 'seconds')\n",
    "print(\"Performance: \", 100000 / (end - start), 'operations per seconds')"
   ]
  },
  {
   "cell_type": "code",
   "execution_count": null,
   "metadata": {},
   "outputs": [],
   "source": []
  }
 ],
 "metadata": {
  "kernelspec": {
   "display_name": "Python 3",
   "language": "python",
   "name": "python3"
  },
  "language_info": {
   "codemirror_mode": {
    "name": "ipython",
    "version": 3
   },
   "file_extension": ".py",
   "mimetype": "text/x-python",
   "name": "python",
   "nbconvert_exporter": "python",
   "pygments_lexer": "ipython3",
   "version": "3.9.11"
  }
 },
 "nbformat": 4,
 "nbformat_minor": 2
}
