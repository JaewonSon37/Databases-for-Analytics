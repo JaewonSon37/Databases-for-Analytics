{
 "cells": [
  {
   "cell_type": "markdown",
   "metadata": {},
   "source": [
    "### SQL Alchemy"
   ]
  },
  {
   "cell_type": "code",
   "execution_count": 1,
   "metadata": {},
   "outputs": [],
   "source": [
    "import sqlalchemy\n",
    "\n",
    "from sqlalchemy import create_engine, Column, Integer, Float, String\n",
    "from sqlalchemy.orm import declarative_base"
   ]
  },
  {
   "cell_type": "code",
   "execution_count": 2,
   "metadata": {},
   "outputs": [],
   "source": [
    "# Create an SQLite in-memory database engine\n",
    "Engine = create_engine(\"sqlite:///:memory:\", echo = True)"
   ]
  },
  {
   "cell_type": "code",
   "execution_count": 3,
   "metadata": {},
   "outputs": [],
   "source": [
    "# Create a base class for declarative class definitions\n",
    "Base = declarative_base()"
   ]
  },
  {
   "cell_type": "code",
   "execution_count": 4,
   "metadata": {},
   "outputs": [],
   "source": [
    "# Define the Animal class, representing the 'animal' table in the database\n",
    "class Animal(Base):\n",
    "\n",
    "    # Define table name\n",
    "    __tablename__ = 'animal'\n",
    "\n",
    "    # Define columns for the table\n",
    "    aid = Column(Integer, primary_key = True)\n",
    "    aname = Column(String, nullable = False)\n",
    "    acategory = Column(String(18))\n",
    "    timetofeed = Column(Float)\n",
    "\n",
    "    # Define the __repr__ method to return a readable string representation of each Animal instance\n",
    "    def __repr__(self):\n",
    "        \n",
    "        return \"<Animal(AID = %d, AName = '%s', ACategory = '%s', TimeToFeed = '%s')>\" % (self.aid, self.aname, self.acategory, self.timetofeed)"
   ]
  },
  {
   "cell_type": "code",
   "execution_count": 5,
   "metadata": {},
   "outputs": [
    {
     "data": {
      "text/plain": [
       "Table('animal', MetaData(), Column('aid', Integer(), table=<animal>, primary_key=True, nullable=False), Column('aname', String(), table=<animal>, nullable=False), Column('acategory', String(length=18), table=<animal>), Column('timetofeed', Float(), table=<animal>), schema=None)"
      ]
     },
     "execution_count": 5,
     "metadata": {},
     "output_type": "execute_result"
    }
   ],
   "source": [
    "# Generate the 'animal' table schema in the database\n",
    "Animal.__table__"
   ]
  },
  {
   "cell_type": "code",
   "execution_count": 6,
   "metadata": {},
   "outputs": [
    {
     "name": "stdout",
     "output_type": "stream",
     "text": [
      "2024-11-08 12:16:23,031 INFO sqlalchemy.engine.Engine BEGIN (implicit)\n",
      "2024-11-08 12:16:23,034 INFO sqlalchemy.engine.Engine PRAGMA main.table_info(\"animal\")\n",
      "2024-11-08 12:16:23,035 INFO sqlalchemy.engine.Engine [raw sql] ()\n",
      "2024-11-08 12:16:23,038 INFO sqlalchemy.engine.Engine PRAGMA temp.table_info(\"animal\")\n",
      "2024-11-08 12:16:23,039 INFO sqlalchemy.engine.Engine [raw sql] ()\n",
      "2024-11-08 12:16:23,041 INFO sqlalchemy.engine.Engine \n",
      "CREATE TABLE animal (\n",
      "\taid INTEGER NOT NULL, \n",
      "\taname VARCHAR NOT NULL, \n",
      "\tacategory VARCHAR(18), \n",
      "\ttimetofeed FLOAT, \n",
      "\tPRIMARY KEY (aid)\n",
      ")\n",
      "\n",
      "\n",
      "2024-11-08 12:16:23,042 INFO sqlalchemy.engine.Engine [no key 0.00122s] ()\n",
      "2024-11-08 12:16:23,044 INFO sqlalchemy.engine.Engine COMMIT\n"
     ]
    }
   ],
   "source": [
    "# Create all tables defined in the base metadata\n",
    "Base.metadata.create_all(Engine)"
   ]
  },
  {
   "cell_type": "markdown",
   "metadata": {},
   "source": [
    "---\n",
    "### Load Data with SQL Alchemy"
   ]
  },
  {
   "cell_type": "code",
   "execution_count": 7,
   "metadata": {},
   "outputs": [],
   "source": [
    "from sqlalchemy.orm import sessionmaker"
   ]
  },
  {
   "cell_type": "code",
   "execution_count": 8,
   "metadata": {},
   "outputs": [],
   "source": [
    "# Create instances of the Animal class\n",
    "animal1 = Animal(aid = 1, aname = 'Galapagos Penguin', acategory = 'exotic', timetofeed = '0.5')\n",
    "animal2 = Animal(aid = 2, aname = 'Emperor Penguin', acategory = 'rare', timetofeed = '0.75')\n",
    "animal3 = Animal(aid = 3, aname = 'Sri Lankan sloth bear', acategory = 'exotic', timetofeed = '2.5')\n",
    "animal4 = Animal(aid = 4, aname = 'Grizzly Bear', acategory = 'common', timetofeed = '3.0')"
   ]
  },
  {
   "cell_type": "code",
   "execution_count": 9,
   "metadata": {},
   "outputs": [
    {
     "data": {
      "text/plain": [
       "'Galapagos Penguin'"
      ]
     },
     "execution_count": 9,
     "metadata": {},
     "output_type": "execute_result"
    }
   ],
   "source": [
    "# Access an attribute to retrieve the name of a specific animal\n",
    "animal1.aname"
   ]
  },
  {
   "cell_type": "code",
   "execution_count": 10,
   "metadata": {},
   "outputs": [
    {
     "data": {
      "text/plain": [
       "'exotic'"
      ]
     },
     "execution_count": 10,
     "metadata": {},
     "output_type": "execute_result"
    }
   ],
   "source": [
    "# Access an attribute to retrieve the category of a specific animal\n",
    "animal3.acategory"
   ]
  },
  {
   "cell_type": "code",
   "execution_count": 11,
   "metadata": {},
   "outputs": [],
   "source": [
    "# Create a session factory bound to the engine, allowing interaction with the database\n",
    "Session = sessionmaker(bind = Engine)\n",
    "session = Session() # Instantiate a session object to manage transactions with the database"
   ]
  },
  {
   "cell_type": "code",
   "execution_count": 12,
   "metadata": {},
   "outputs": [],
   "source": [
    "# Add individual instances to the session\n",
    "session.add(animal1)\n",
    "session.add(animal2)\n",
    "session.add_all([animal3, animal4])"
   ]
  },
  {
   "cell_type": "code",
   "execution_count": 13,
   "metadata": {},
   "outputs": [],
   "source": [
    "# Modify the 'aname' attribute of animal3\n",
    "animal3.aname = 'Sri Lankan Sloth Bear'"
   ]
  },
  {
   "cell_type": "code",
   "execution_count": 14,
   "metadata": {},
   "outputs": [
    {
     "name": "stdout",
     "output_type": "stream",
     "text": [
      "2024-11-08 12:16:23,212 INFO sqlalchemy.engine.Engine BEGIN (implicit)\n",
      "2024-11-08 12:16:23,217 INFO sqlalchemy.engine.Engine INSERT INTO animal (aid, aname, acategory, timetofeed) VALUES (?, ?, ?, ?)\n",
      "2024-11-08 12:16:23,219 INFO sqlalchemy.engine.Engine [generated in 0.00223s] [(1, 'Galapagos Penguin', 'exotic', 0.5), (2, 'Emperor Penguin', 'rare', 0.75), (3, 'Sri Lankan Sloth Bear', 'exotic', 2.5), (4, 'Grizzly Bear', 'common', 3.0)]\n",
      "2024-11-08 12:16:23,223 INFO sqlalchemy.engine.Engine COMMIT\n"
     ]
    }
   ],
   "source": [
    "# Commit the transaction to the database\n",
    "session.commit()"
   ]
  },
  {
   "cell_type": "markdown",
   "metadata": {},
   "source": [
    "---\n",
    "### Queries in SQL Alchemy"
   ]
  },
  {
   "cell_type": "code",
   "execution_count": 15,
   "metadata": {},
   "outputs": [
    {
     "name": "stdout",
     "output_type": "stream",
     "text": [
      "2024-11-08 12:16:23,243 INFO sqlalchemy.engine.Engine BEGIN (implicit)\n",
      "2024-11-08 12:16:23,249 INFO sqlalchemy.engine.Engine SELECT animal.aid AS animal_aid, animal.aname AS animal_aname, animal.acategory AS animal_acategory, animal.timetofeed AS animal_timetofeed \n",
      "FROM animal \n",
      "WHERE animal.acategory = ?\n",
      " LIMIT ? OFFSET ?\n",
      "2024-11-08 12:16:23,251 INFO sqlalchemy.engine.Engine [generated in 0.00226s] ('rare', 1, 0)\n"
     ]
    },
    {
     "data": {
      "text/plain": [
       "<Animal(AID = 2, AName = 'Emperor Penguin', ACategory = 'rare', TimeToFeed = '0.75')>"
      ]
     },
     "execution_count": 15,
     "metadata": {},
     "output_type": "execute_result"
    }
   ],
   "source": [
    "# Query the 'Animal' table to retrieve the first entry where 'acategory' is 'rare'\n",
    "session.query(Animal).filter_by(acategory = 'rare').first()"
   ]
  },
  {
   "cell_type": "code",
   "execution_count": 16,
   "metadata": {},
   "outputs": [
    {
     "name": "stdout",
     "output_type": "stream",
     "text": [
      "2024-11-08 12:16:23,276 INFO sqlalchemy.engine.Engine SELECT animal.aid AS animal_aid, animal.aname AS animal_aname, animal.acategory AS animal_acategory, animal.timetofeed AS animal_timetofeed \n",
      "FROM animal \n",
      "WHERE animal.acategory = ?\n",
      "2024-11-08 12:16:23,278 INFO sqlalchemy.engine.Engine [generated in 0.00130s] ('exotic',)\n"
     ]
    },
    {
     "data": {
      "text/plain": [
       "[<Animal(AID = 1, AName = 'Galapagos Penguin', ACategory = 'exotic', TimeToFeed = '0.5')>,\n",
       " <Animal(AID = 3, AName = 'Sri Lankan Sloth Bear', ACategory = 'exotic', TimeToFeed = '2.5')>]"
      ]
     },
     "execution_count": 16,
     "metadata": {},
     "output_type": "execute_result"
    }
   ],
   "source": [
    "# Query the 'Animal' table to retrieve all entries where 'acategory' is 'exotic'\n",
    "session.query(Animal).filter_by(acategory = 'exotic').all()"
   ]
  },
  {
   "cell_type": "code",
   "execution_count": 17,
   "metadata": {},
   "outputs": [
    {
     "name": "stdout",
     "output_type": "stream",
     "text": [
      "2024-11-08 12:16:23,312 INFO sqlalchemy.engine.Engine SELECT animal.acategory AS animal_acategory, animal.aname AS animal_aname \n",
      "FROM animal\n",
      "2024-11-08 12:16:23,313 INFO sqlalchemy.engine.Engine [generated in 0.00169s] ()\n",
      "exotic   Galapagos Penguin\n",
      "rare   Emperor Penguin\n",
      "exotic   Sri Lankan Sloth Bear\n",
      "common   Grizzly Bear\n"
     ]
    }
   ],
   "source": [
    "# Query the 'Animal' table to retrieve 'acategory' and 'aname' columns\n",
    "for (acategory, aname) in session.query(Animal.acategory, Animal.aname):\n",
    "    print(acategory, ' ', aname)"
   ]
  },
  {
   "cell_type": "code",
   "execution_count": 18,
   "metadata": {},
   "outputs": [
    {
     "name": "stdout",
     "output_type": "stream",
     "text": [
      "2024-11-08 12:16:23,339 INFO sqlalchemy.engine.Engine SELECT animal.aid AS animal_aid, animal.aname AS animal_aname, animal.acategory AS animal_acategory, animal.timetofeed AS animal_timetofeed \n",
      "FROM animal ORDER BY animal.aname\n",
      "2024-11-08 12:16:23,340 INFO sqlalchemy.engine.Engine [generated in 0.00123s] ()\n",
      "2 Emperor Penguin 0.75\n",
      "1 Galapagos Penguin 0.5\n",
      "4 Grizzly Bear 3.0\n",
      "3 Sri Lankan Sloth Bear 2.5\n"
     ]
    }
   ],
   "source": [
    "# Query the 'Animal' table and ordering the results by 'aname'\n",
    "for instance in session.query(Animal).order_by(Animal.aname):\n",
    "    print(instance.aid, instance.aname, instance.timetofeed)"
   ]
  },
  {
   "cell_type": "code",
   "execution_count": 19,
   "metadata": {},
   "outputs": [
    {
     "name": "stdout",
     "output_type": "stream",
     "text": [
      "2024-11-08 12:16:23,368 INFO sqlalchemy.engine.Engine SELECT animal.aid AS animal_aid, animal.aname AS animal_aname, animal.acategory AS animal_acategory, animal.timetofeed AS animal_timetofeed \n",
      "FROM animal \n",
      "WHERE animal.acategory = ? ORDER BY animal.aname\n",
      "2024-11-08 12:16:23,370 INFO sqlalchemy.engine.Engine [generated in 0.00204s] ('exotic',)\n",
      "<Animal(AID = 1, AName = 'Galapagos Penguin', ACategory = 'exotic', TimeToFeed = '0.5')>\n",
      "<Animal(AID = 3, AName = 'Sri Lankan Sloth Bear', ACategory = 'exotic', TimeToFeed = '2.5')>\n"
     ]
    }
   ],
   "source": [
    "# Query the 'Animal' table to retrieve all entries with 'acategory' set to 'exotic' and ordering the results by 'aname'\n",
    "for instance in session.query(Animal).filter_by(acategory = 'exotic').order_by(Animal.aname).all():\n",
    "    print(instance)"
   ]
  },
  {
   "cell_type": "code",
   "execution_count": null,
   "metadata": {},
   "outputs": [],
   "source": []
  }
 ],
 "metadata": {
  "kernelspec": {
   "display_name": "Python 3",
   "language": "python",
   "name": "python3"
  },
  "language_info": {
   "codemirror_mode": {
    "name": "ipython",
    "version": 3
   },
   "file_extension": ".py",
   "mimetype": "text/x-python",
   "name": "python",
   "nbconvert_exporter": "python",
   "pygments_lexer": "ipython3",
   "version": "3.9.11"
  }
 },
 "nbformat": 4,
 "nbformat_minor": 2
}
